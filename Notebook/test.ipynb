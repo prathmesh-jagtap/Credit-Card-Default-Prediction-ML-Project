{
 "cells": [
  {
   "cell_type": "code",
   "execution_count": 1,
   "metadata": {},
   "outputs": [],
   "source": [
    "import pandas as pd\n",
    "import numpy as np\n",
    "from sklearn.model_selection import StratifiedShuffleSplit\n",
    "import yaml\n",
    "from evidently.model_profile import Profile\n",
    "from evidently.model_profile.sections import DataDriftProfileSection\n",
    "from evidently.dashboard import Dashboard\n",
    "from evidently.dashboard.tabs import DataDriftTab\n",
    "import json\n",
    "\n",
    "def read_yaml(path):\n",
    "    with open(path, 'rb') as yaml_file:\n",
    "        return yaml.safe_load(yaml_file)\n"
   ]
  },
  {
   "cell_type": "code",
   "execution_count": 2,
   "metadata": {},
   "outputs": [
    {
     "data": {
      "text/html": [
       "<div>\n",
       "<style scoped>\n",
       "    .dataframe tbody tr th:only-of-type {\n",
       "        vertical-align: middle;\n",
       "    }\n",
       "\n",
       "    .dataframe tbody tr th {\n",
       "        vertical-align: top;\n",
       "    }\n",
       "\n",
       "    .dataframe thead th {\n",
       "        text-align: right;\n",
       "    }\n",
       "</style>\n",
       "<table border=\"1\" class=\"dataframe\">\n",
       "  <thead>\n",
       "    <tr style=\"text-align: right;\">\n",
       "      <th></th>\n",
       "      <th>0</th>\n",
       "      <th>1</th>\n",
       "      <th>2</th>\n",
       "      <th>3</th>\n",
       "      <th>4</th>\n",
       "    </tr>\n",
       "  </thead>\n",
       "  <tbody>\n",
       "    <tr>\n",
       "      <th>LIMIT_BAL</th>\n",
       "      <td>20000.0</td>\n",
       "      <td>120000.0</td>\n",
       "      <td>90000.0</td>\n",
       "      <td>50000.0</td>\n",
       "      <td>50000.0</td>\n",
       "    </tr>\n",
       "    <tr>\n",
       "      <th>GENDER</th>\n",
       "      <td>2.0</td>\n",
       "      <td>2.0</td>\n",
       "      <td>2.0</td>\n",
       "      <td>2.0</td>\n",
       "      <td>1.0</td>\n",
       "    </tr>\n",
       "    <tr>\n",
       "      <th>EDUCATION</th>\n",
       "      <td>2.0</td>\n",
       "      <td>2.0</td>\n",
       "      <td>2.0</td>\n",
       "      <td>2.0</td>\n",
       "      <td>2.0</td>\n",
       "    </tr>\n",
       "    <tr>\n",
       "      <th>MARRIAGE</th>\n",
       "      <td>1.0</td>\n",
       "      <td>2.0</td>\n",
       "      <td>2.0</td>\n",
       "      <td>1.0</td>\n",
       "      <td>1.0</td>\n",
       "    </tr>\n",
       "    <tr>\n",
       "      <th>AGE</th>\n",
       "      <td>24.0</td>\n",
       "      <td>26.0</td>\n",
       "      <td>34.0</td>\n",
       "      <td>37.0</td>\n",
       "      <td>57.0</td>\n",
       "    </tr>\n",
       "    <tr>\n",
       "      <th>PAY_1</th>\n",
       "      <td>2.0</td>\n",
       "      <td>-1.0</td>\n",
       "      <td>0.0</td>\n",
       "      <td>0.0</td>\n",
       "      <td>-1.0</td>\n",
       "    </tr>\n",
       "    <tr>\n",
       "      <th>PAY_2</th>\n",
       "      <td>2.0</td>\n",
       "      <td>2.0</td>\n",
       "      <td>0.0</td>\n",
       "      <td>0.0</td>\n",
       "      <td>0.0</td>\n",
       "    </tr>\n",
       "    <tr>\n",
       "      <th>PAY_3</th>\n",
       "      <td>-1.0</td>\n",
       "      <td>0.0</td>\n",
       "      <td>0.0</td>\n",
       "      <td>0.0</td>\n",
       "      <td>-1.0</td>\n",
       "    </tr>\n",
       "    <tr>\n",
       "      <th>PAY_4</th>\n",
       "      <td>-1.0</td>\n",
       "      <td>0.0</td>\n",
       "      <td>0.0</td>\n",
       "      <td>0.0</td>\n",
       "      <td>0.0</td>\n",
       "    </tr>\n",
       "    <tr>\n",
       "      <th>PAY_5</th>\n",
       "      <td>-2.0</td>\n",
       "      <td>0.0</td>\n",
       "      <td>0.0</td>\n",
       "      <td>0.0</td>\n",
       "      <td>0.0</td>\n",
       "    </tr>\n",
       "    <tr>\n",
       "      <th>PAY_6</th>\n",
       "      <td>-2.0</td>\n",
       "      <td>2.0</td>\n",
       "      <td>0.0</td>\n",
       "      <td>0.0</td>\n",
       "      <td>0.0</td>\n",
       "    </tr>\n",
       "    <tr>\n",
       "      <th>BILL_AMT1</th>\n",
       "      <td>3913.0</td>\n",
       "      <td>2682.0</td>\n",
       "      <td>29239.0</td>\n",
       "      <td>46990.0</td>\n",
       "      <td>8617.0</td>\n",
       "    </tr>\n",
       "    <tr>\n",
       "      <th>BILL_AMT2</th>\n",
       "      <td>3102.0</td>\n",
       "      <td>1725.0</td>\n",
       "      <td>14027.0</td>\n",
       "      <td>48233.0</td>\n",
       "      <td>5670.0</td>\n",
       "    </tr>\n",
       "    <tr>\n",
       "      <th>BILL_AMT3</th>\n",
       "      <td>689.0</td>\n",
       "      <td>2682.0</td>\n",
       "      <td>13559.0</td>\n",
       "      <td>49291.0</td>\n",
       "      <td>35835.0</td>\n",
       "    </tr>\n",
       "    <tr>\n",
       "      <th>BILL_AMT4</th>\n",
       "      <td>0.0</td>\n",
       "      <td>3272.0</td>\n",
       "      <td>14331.0</td>\n",
       "      <td>28314.0</td>\n",
       "      <td>20940.0</td>\n",
       "    </tr>\n",
       "    <tr>\n",
       "      <th>BILL_AMT5</th>\n",
       "      <td>0.0</td>\n",
       "      <td>3455.0</td>\n",
       "      <td>14948.0</td>\n",
       "      <td>28959.0</td>\n",
       "      <td>19146.0</td>\n",
       "    </tr>\n",
       "    <tr>\n",
       "      <th>BILL_AMT6</th>\n",
       "      <td>0.0</td>\n",
       "      <td>3261.0</td>\n",
       "      <td>15549.0</td>\n",
       "      <td>29547.0</td>\n",
       "      <td>19131.0</td>\n",
       "    </tr>\n",
       "    <tr>\n",
       "      <th>PAY_AMT1</th>\n",
       "      <td>0.0</td>\n",
       "      <td>0.0</td>\n",
       "      <td>1518.0</td>\n",
       "      <td>2000.0</td>\n",
       "      <td>2000.0</td>\n",
       "    </tr>\n",
       "    <tr>\n",
       "      <th>PAY_AMT2</th>\n",
       "      <td>689.0</td>\n",
       "      <td>1000.0</td>\n",
       "      <td>1500.0</td>\n",
       "      <td>2019.0</td>\n",
       "      <td>36681.0</td>\n",
       "    </tr>\n",
       "    <tr>\n",
       "      <th>PAY_AMT3</th>\n",
       "      <td>0.0</td>\n",
       "      <td>1000.0</td>\n",
       "      <td>1000.0</td>\n",
       "      <td>1200.0</td>\n",
       "      <td>10000.0</td>\n",
       "    </tr>\n",
       "    <tr>\n",
       "      <th>PAY_AMT4</th>\n",
       "      <td>0.0</td>\n",
       "      <td>1000.0</td>\n",
       "      <td>1000.0</td>\n",
       "      <td>1100.0</td>\n",
       "      <td>9000.0</td>\n",
       "    </tr>\n",
       "    <tr>\n",
       "      <th>PAY_AMT5</th>\n",
       "      <td>0.0</td>\n",
       "      <td>0.0</td>\n",
       "      <td>1000.0</td>\n",
       "      <td>1069.0</td>\n",
       "      <td>689.0</td>\n",
       "    </tr>\n",
       "    <tr>\n",
       "      <th>PAY_AMT6</th>\n",
       "      <td>0.0</td>\n",
       "      <td>2000.0</td>\n",
       "      <td>5000.0</td>\n",
       "      <td>1000.0</td>\n",
       "      <td>679.0</td>\n",
       "    </tr>\n",
       "    <tr>\n",
       "      <th>DEFAULTS</th>\n",
       "      <td>1.0</td>\n",
       "      <td>1.0</td>\n",
       "      <td>0.0</td>\n",
       "      <td>0.0</td>\n",
       "      <td>0.0</td>\n",
       "    </tr>\n",
       "  </tbody>\n",
       "</table>\n",
       "</div>"
      ],
      "text/plain": [
       "                 0         1        2        3        4\n",
       "LIMIT_BAL  20000.0  120000.0  90000.0  50000.0  50000.0\n",
       "GENDER         2.0       2.0      2.0      2.0      1.0\n",
       "EDUCATION      2.0       2.0      2.0      2.0      2.0\n",
       "MARRIAGE       1.0       2.0      2.0      1.0      1.0\n",
       "AGE           24.0      26.0     34.0     37.0     57.0\n",
       "PAY_1          2.0      -1.0      0.0      0.0     -1.0\n",
       "PAY_2          2.0       2.0      0.0      0.0      0.0\n",
       "PAY_3         -1.0       0.0      0.0      0.0     -1.0\n",
       "PAY_4         -1.0       0.0      0.0      0.0      0.0\n",
       "PAY_5         -2.0       0.0      0.0      0.0      0.0\n",
       "PAY_6         -2.0       2.0      0.0      0.0      0.0\n",
       "BILL_AMT1   3913.0    2682.0  29239.0  46990.0   8617.0\n",
       "BILL_AMT2   3102.0    1725.0  14027.0  48233.0   5670.0\n",
       "BILL_AMT3    689.0    2682.0  13559.0  49291.0  35835.0\n",
       "BILL_AMT4      0.0    3272.0  14331.0  28314.0  20940.0\n",
       "BILL_AMT5      0.0    3455.0  14948.0  28959.0  19146.0\n",
       "BILL_AMT6      0.0    3261.0  15549.0  29547.0  19131.0\n",
       "PAY_AMT1       0.0       0.0   1518.0   2000.0   2000.0\n",
       "PAY_AMT2     689.0    1000.0   1500.0   2019.0  36681.0\n",
       "PAY_AMT3       0.0    1000.0   1000.0   1200.0  10000.0\n",
       "PAY_AMT4       0.0    1000.0   1000.0   1100.0   9000.0\n",
       "PAY_AMT5       0.0       0.0   1000.0   1069.0    689.0\n",
       "PAY_AMT6       0.0    2000.0   5000.0   1000.0    679.0\n",
       "DEFAULTS       1.0       1.0      0.0      0.0      0.0"
      ]
     },
     "execution_count": 2,
     "metadata": {},
     "output_type": "execute_result"
    }
   ],
   "source": [
    "df = pd.read_csv(\"../dataset/UCI_Credit_Card.csv\")\n",
    "df.rename(columns={'PAY_0': 'PAY_1', 'SEX': 'GENDER', 'default.payment.next.month': 'DEFAULTS'}, inplace=True)\n",
    "df.drop(columns=['ID'], axis=1, inplace=True)\n",
    "df.head().T"
   ]
  },
  {
   "cell_type": "code",
   "execution_count": 25,
   "metadata": {},
   "outputs": [
    {
     "data": {
      "text/plain": [
       "0        2\n",
       "1        2\n",
       "2        2\n",
       "3        2\n",
       "4        1\n",
       "        ..\n",
       "29995    1\n",
       "29996    1\n",
       "29997    1\n",
       "29998    1\n",
       "29999    1\n",
       "Name: GENDER, Length: 30000, dtype: int64"
      ]
     },
     "execution_count": 25,
     "metadata": {},
     "output_type": "execute_result"
    }
   ],
   "source": [
    "df['GENDER'].replace({'Male':1, 'Female':2}, inplace=True)\n",
    "df['GENDER']"
   ]
  },
  {
   "cell_type": "code",
   "execution_count": 5,
   "metadata": {},
   "outputs": [],
   "source": [
    "config_data = read_yaml(\"../config/schema.yaml\")\n",
    "cat_col = config_data.get(\"domain_value\")\n",
    "# if not cat_col.get(\"MARRIAGE\") in df.MARRIAGE.unique() and not cat_col.get(\"EDUCATION\") in df.EDUCATION.unique():\n",
    "#         df[\"MARRIAGE\"].replace(to_replace=0, value=3, inplace=True)\n",
    "#         df[\"EDUCATION\"].replace(to_replace=[0, 5, 6], value=4, inplace=True)"
   ]
  },
  {
   "cell_type": "code",
   "execution_count": 6,
   "metadata": {},
   "outputs": [
    {
     "name": "stderr",
     "output_type": "stream",
     "text": [
      "C:\\Users\\HP\\AppData\\Local\\Temp\\ipykernel_20856\\2620371174.py:1: DeprecationWarning: elementwise comparison failed; this will raise an error in the future.\n",
      "  cat_col.get(\"MARRIAGE\") in df.MARRIAGE.unique() and cat_col.get(\"EDUCATION\") in df.EDUCATION.unique()\n"
     ]
    },
    {
     "data": {
      "text/plain": [
       "False"
      ]
     },
     "execution_count": 6,
     "metadata": {},
     "output_type": "execute_result"
    }
   ],
   "source": [
    "cat_col.get(\"MARRIAGE\") in df.MARRIAGE.unique() and cat_col.get(\"EDUCATION\") in df.EDUCATION.unique()"
   ]
  },
  {
   "cell_type": "code",
   "execution_count": 7,
   "metadata": {},
   "outputs": [],
   "source": [
    "from sklearn.model_selection import train_test_split\n",
    "X = df.drop(columns=[\"DEFAULTS\"], axis=1)\n",
    "y = df[\"DEFAULTS\"]\n",
    "train_x, test_x, train_y, test_y = train_test_split(X, y, test_size=0.25)"
   ]
  },
  {
   "cell_type": "code",
   "execution_count": 8,
   "metadata": {},
   "outputs": [
    {
     "name": "stdout",
     "output_type": "stream",
     "text": [
      "True\n",
      "True\n"
     ]
    },
    {
     "name": "stderr",
     "output_type": "stream",
     "text": [
      "C:\\Users\\HP\\AppData\\Local\\Temp\\ipykernel_20856\\283351617.py:2: DeprecationWarning: elementwise comparison failed; this will raise an error in the future.\n",
      "  if not cat_col.get(\"MARRIAGE\") in df.MARRIAGE.unique() and not cat_col.get(\"EDUCATION\") in df.EDUCATION.unique():\n"
     ]
    }
   ],
   "source": [
    "for df in (train_x, test_x):\n",
    "    if not cat_col.get(\"MARRIAGE\") in df.MARRIAGE.unique() and not cat_col.get(\"EDUCATION\") in df.EDUCATION.unique():\n",
    "            df[\"MARRIAGE\"].replace(to_replace=0, value=3, inplace=True)\n",
    "            df[\"EDUCATION\"].replace(to_replace=[0, 5, 6], value=4, inplace=True)\n",
    "            print(True)\n",
    "    else:\n",
    "        print(False)"
   ]
  },
  {
   "cell_type": "code",
   "execution_count": 9,
   "metadata": {},
   "outputs": [
    {
     "data": {
      "text/plain": [
       "2    10505\n",
       "1     7927\n",
       "3     3702\n",
       "4      366\n",
       "Name: EDUCATION, dtype: int64"
      ]
     },
     "execution_count": 9,
     "metadata": {},
     "output_type": "execute_result"
    }
   ],
   "source": [
    "train_x.EDUCATION.value_counts()"
   ]
  },
  {
   "cell_type": "code",
   "execution_count": 10,
   "metadata": {},
   "outputs": [],
   "source": [
    "profile = Profile(sections=[DataDriftProfileSection()])"
   ]
  },
  {
   "cell_type": "code",
   "execution_count": 12,
   "metadata": {},
   "outputs": [],
   "source": [
    "train_df = pd.read_csv(\"../CreditCard_Defaults/artifact/data_ingestion/2022-09-15-16-54-11/ingested_data/train/UCI_Credit_Card.csv\")\n",
    "test_df = pd.read_csv(\"../CreditCard_Defaults/artifact/data_ingestion/2022-09-15-16-54-11/ingested_data/test/UCI_Credit_Card.csv\")"
   ]
  },
  {
   "cell_type": "code",
   "execution_count": 13,
   "metadata": {},
   "outputs": [
    {
     "name": "stderr",
     "output_type": "stream",
     "text": [
      "c:\\Users\\HP\\Desktop\\Credit-Card-Default-Prediction-ML-Project\\venv\\lib\\site-packages\\evidently\\analyzers\\stattests\\registry.py:43: FutureWarning: The series.append method is deprecated and will be removed from pandas in a future version. Use pandas.concat instead.\n",
      "  n_values = reference_data.append(current_data).nunique()\n",
      "c:\\Users\\HP\\Desktop\\Credit-Card-Default-Prediction-ML-Project\\venv\\lib\\site-packages\\evidently\\analyzers\\stattests\\registry.py:54: FutureWarning: The series.append method is deprecated and will be removed from pandas in a future version. Use pandas.concat instead.\n",
      "  n_values = reference_data.append(current_data).nunique()\n",
      "c:\\Users\\HP\\Desktop\\Credit-Card-Default-Prediction-ML-Project\\venv\\lib\\site-packages\\evidently\\analyzers\\stattests\\registry.py:43: FutureWarning: The series.append method is deprecated and will be removed from pandas in a future version. Use pandas.concat instead.\n",
      "  n_values = reference_data.append(current_data).nunique()\n",
      "c:\\Users\\HP\\Desktop\\Credit-Card-Default-Prediction-ML-Project\\venv\\lib\\site-packages\\evidently\\analyzers\\stattests\\registry.py:54: FutureWarning: The series.append method is deprecated and will be removed from pandas in a future version. Use pandas.concat instead.\n",
      "  n_values = reference_data.append(current_data).nunique()\n",
      "c:\\Users\\HP\\Desktop\\Credit-Card-Default-Prediction-ML-Project\\venv\\lib\\site-packages\\evidently\\analyzers\\stattests\\registry.py:43: FutureWarning: The series.append method is deprecated and will be removed from pandas in a future version. Use pandas.concat instead.\n",
      "  n_values = reference_data.append(current_data).nunique()\n",
      "c:\\Users\\HP\\Desktop\\Credit-Card-Default-Prediction-ML-Project\\venv\\lib\\site-packages\\evidently\\analyzers\\stattests\\registry.py:54: FutureWarning: The series.append method is deprecated and will be removed from pandas in a future version. Use pandas.concat instead.\n",
      "  n_values = reference_data.append(current_data).nunique()\n"
     ]
    }
   ],
   "source": [
    "profile.calculate(train_df, test_df)"
   ]
  },
  {
   "cell_type": "code",
   "execution_count": 14,
   "metadata": {},
   "outputs": [],
   "source": [
    "report = json.loads(profile.json())"
   ]
  },
  {
   "cell_type": "code",
   "execution_count": 15,
   "metadata": {},
   "outputs": [],
   "source": [
    "report_file_path = \"../Notebook/D_Drift.json\"\n",
    "with open(report_file_path, \"w\") as report_file:\n",
    "    json.dump(report, report_file, indent=6)"
   ]
  },
  {
   "cell_type": "code",
   "execution_count": 17,
   "metadata": {},
   "outputs": [
    {
     "name": "stderr",
     "output_type": "stream",
     "text": [
      "c:\\Users\\HP\\Desktop\\Credit-Card-Default-Prediction-ML-Project\\venv\\lib\\site-packages\\evidently\\analyzers\\stattests\\registry.py:43: FutureWarning:\n",
      "\n",
      "The series.append method is deprecated and will be removed from pandas in a future version. Use pandas.concat instead.\n",
      "\n",
      "c:\\Users\\HP\\Desktop\\Credit-Card-Default-Prediction-ML-Project\\venv\\lib\\site-packages\\evidently\\analyzers\\stattests\\registry.py:54: FutureWarning:\n",
      "\n",
      "The series.append method is deprecated and will be removed from pandas in a future version. Use pandas.concat instead.\n",
      "\n",
      "c:\\Users\\HP\\Desktop\\Credit-Card-Default-Prediction-ML-Project\\venv\\lib\\site-packages\\evidently\\analyzers\\stattests\\registry.py:43: FutureWarning:\n",
      "\n",
      "The series.append method is deprecated and will be removed from pandas in a future version. Use pandas.concat instead.\n",
      "\n",
      "c:\\Users\\HP\\Desktop\\Credit-Card-Default-Prediction-ML-Project\\venv\\lib\\site-packages\\evidently\\analyzers\\stattests\\registry.py:54: FutureWarning:\n",
      "\n",
      "The series.append method is deprecated and will be removed from pandas in a future version. Use pandas.concat instead.\n",
      "\n",
      "c:\\Users\\HP\\Desktop\\Credit-Card-Default-Prediction-ML-Project\\venv\\lib\\site-packages\\evidently\\analyzers\\stattests\\registry.py:43: FutureWarning:\n",
      "\n",
      "The series.append method is deprecated and will be removed from pandas in a future version. Use pandas.concat instead.\n",
      "\n",
      "c:\\Users\\HP\\Desktop\\Credit-Card-Default-Prediction-ML-Project\\venv\\lib\\site-packages\\evidently\\analyzers\\stattests\\registry.py:54: FutureWarning:\n",
      "\n",
      "The series.append method is deprecated and will be removed from pandas in a future version. Use pandas.concat instead.\n",
      "\n"
     ]
    }
   ],
   "source": [
    "dashboard = Dashboard(tabs=[DataDriftTab()])\n",
    "dashboard.calculate(train_df, test_df)\n",
    "dashboard.save(\"D_Drift.html\")"
   ]
  }
 ],
 "metadata": {
  "kernelspec": {
   "display_name": "Python 3.8.0 (conda)",
   "language": "python",
   "name": "python3"
  },
  "language_info": {
   "codemirror_mode": {
    "name": "ipython",
    "version": 3
   },
   "file_extension": ".py",
   "mimetype": "text/x-python",
   "name": "python",
   "nbconvert_exporter": "python",
   "pygments_lexer": "ipython3",
   "version": "3.8.0"
  },
  "orig_nbformat": 4,
  "vscode": {
   "interpreter": {
    "hash": "300387a43186fad7b94506a4feddc2c041ab8015c05b82597282b43359f95fb4"
   }
  }
 },
 "nbformat": 4,
 "nbformat_minor": 2
}
